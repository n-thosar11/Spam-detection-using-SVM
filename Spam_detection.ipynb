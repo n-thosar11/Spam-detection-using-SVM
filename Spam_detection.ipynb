{
 "cells": [
  {
   "cell_type": "markdown",
   "id": "occupational-kruger",
   "metadata": {},
   "source": [
    "# Spam detection\n"
   ]
  },
  {
   "cell_type": "markdown",
   "id": "private-prison",
   "metadata": {},
   "source": [
    "Author:\n"
   ]
  },
  {
   "cell_type": "code",
   "execution_count": 1,
   "id": "monetary-budget",
   "metadata": {},
   "outputs": [
    {
     "data": {
      "text/html": [
       "<div>\n",
       "<style scoped>\n",
       "    .dataframe tbody tr th:only-of-type {\n",
       "        vertical-align: middle;\n",
       "    }\n",
       "\n",
       "    .dataframe tbody tr th {\n",
       "        vertical-align: top;\n",
       "    }\n",
       "\n",
       "    .dataframe thead th {\n",
       "        text-align: right;\n",
       "    }\n",
       "</style>\n",
       "<table border=\"1\" class=\"dataframe\">\n",
       "  <thead>\n",
       "    <tr style=\"text-align: right;\">\n",
       "      <th></th>\n",
       "      <th>label</th>\n",
       "      <th>messages</th>\n",
       "    </tr>\n",
       "  </thead>\n",
       "  <tbody>\n",
       "    <tr>\n",
       "      <th>count</th>\n",
       "      <td>5574</td>\n",
       "      <td>5574</td>\n",
       "    </tr>\n",
       "    <tr>\n",
       "      <th>unique</th>\n",
       "      <td>2</td>\n",
       "      <td>5171</td>\n",
       "    </tr>\n",
       "    <tr>\n",
       "      <th>top</th>\n",
       "      <td>ham</td>\n",
       "      <td>Sorry, I'll call later</td>\n",
       "    </tr>\n",
       "    <tr>\n",
       "      <th>freq</th>\n",
       "      <td>4827</td>\n",
       "      <td>30</td>\n",
       "    </tr>\n",
       "  </tbody>\n",
       "</table>\n",
       "</div>"
      ],
      "text/plain": [
       "       label                messages\n",
       "count   5574                    5574\n",
       "unique     2                    5171\n",
       "top      ham  Sorry, I'll call later\n",
       "freq    4827                      30"
      ]
     },
     "execution_count": 1,
     "metadata": {},
     "output_type": "execute_result"
    }
   ],
   "source": [
    "#reading the data\n",
    "import pandas as pd\n",
    "data = pd.read_excel('data.xlsx')\n",
    "data.columns = ['label', 'messages']\n",
    "data.describe()"
   ]
  },
  {
   "cell_type": "code",
   "execution_count": 2,
   "id": "abandoned-following",
   "metadata": {},
   "outputs": [
    {
     "data": {
      "text/html": [
       "<div>\n",
       "<style scoped>\n",
       "    .dataframe tbody tr th:only-of-type {\n",
       "        vertical-align: middle;\n",
       "    }\n",
       "\n",
       "    .dataframe tbody tr th {\n",
       "        vertical-align: top;\n",
       "    }\n",
       "\n",
       "    .dataframe thead th {\n",
       "        text-align: right;\n",
       "    }\n",
       "</style>\n",
       "<table border=\"1\" class=\"dataframe\">\n",
       "  <thead>\n",
       "    <tr style=\"text-align: right;\">\n",
       "      <th></th>\n",
       "      <th>label</th>\n",
       "      <th>messages</th>\n",
       "    </tr>\n",
       "  </thead>\n",
       "  <tbody>\n",
       "    <tr>\n",
       "      <th>0</th>\n",
       "      <td>ham</td>\n",
       "      <td>Go until jurong point, crazy.. Available only ...</td>\n",
       "    </tr>\n",
       "    <tr>\n",
       "      <th>1</th>\n",
       "      <td>ham</td>\n",
       "      <td>Ok lar... Joking wif u oni...</td>\n",
       "    </tr>\n",
       "    <tr>\n",
       "      <th>2</th>\n",
       "      <td>spam</td>\n",
       "      <td>Free entry in 2 a wkly comp to win FA Cup fina...</td>\n",
       "    </tr>\n",
       "    <tr>\n",
       "      <th>3</th>\n",
       "      <td>ham</td>\n",
       "      <td>U dun say so early hor... U c already then say...</td>\n",
       "    </tr>\n",
       "    <tr>\n",
       "      <th>4</th>\n",
       "      <td>ham</td>\n",
       "      <td>Nah I don't think he goes to usf, he lives aro...</td>\n",
       "    </tr>\n",
       "    <tr>\n",
       "      <th>5</th>\n",
       "      <td>spam</td>\n",
       "      <td>FreeMsg Hey there darling it's been 3 week's n...</td>\n",
       "    </tr>\n",
       "    <tr>\n",
       "      <th>6</th>\n",
       "      <td>ham</td>\n",
       "      <td>Even my brother is not like to speak with me. ...</td>\n",
       "    </tr>\n",
       "    <tr>\n",
       "      <th>7</th>\n",
       "      <td>ham</td>\n",
       "      <td>As per your request 'Melle Melle (Oru Minnamin...</td>\n",
       "    </tr>\n",
       "    <tr>\n",
       "      <th>8</th>\n",
       "      <td>spam</td>\n",
       "      <td>WINNER!! As a valued network customer you have...</td>\n",
       "    </tr>\n",
       "    <tr>\n",
       "      <th>9</th>\n",
       "      <td>spam</td>\n",
       "      <td>Had your mobile 11 months or more? U R entitle...</td>\n",
       "    </tr>\n",
       "  </tbody>\n",
       "</table>\n",
       "</div>"
      ],
      "text/plain": [
       "  label                                           messages\n",
       "0   ham  Go until jurong point, crazy.. Available only ...\n",
       "1   ham                      Ok lar... Joking wif u oni...\n",
       "2  spam  Free entry in 2 a wkly comp to win FA Cup fina...\n",
       "3   ham  U dun say so early hor... U c already then say...\n",
       "4   ham  Nah I don't think he goes to usf, he lives aro...\n",
       "5  spam  FreeMsg Hey there darling it's been 3 week's n...\n",
       "6   ham  Even my brother is not like to speak with me. ...\n",
       "7   ham  As per your request 'Melle Melle (Oru Minnamin...\n",
       "8  spam  WINNER!! As a valued network customer you have...\n",
       "9  spam  Had your mobile 11 months or more? U R entitle..."
      ]
     },
     "execution_count": 2,
     "metadata": {},
     "output_type": "execute_result"
    }
   ],
   "source": [
    "data.head(10)"
   ]
  },
  {
   "cell_type": "markdown",
   "id": "laden-child",
   "metadata": {},
   "source": [
    "## Exploratory data analysis"
   ]
  },
  {
   "cell_type": "code",
   "execution_count": 3,
   "id": "unnecessary-irish",
   "metadata": {},
   "outputs": [
    {
     "data": {
      "text/plain": [
       "array([<AxesSubplot:title={'center':'ham'}>,\n",
       "       <AxesSubplot:title={'center':'spam'}>], dtype=object)"
      ]
     },
     "execution_count": 3,
     "metadata": {},
     "output_type": "execute_result"
    },
    {
     "data": {
      "image/png": "[encoded data removed]",
      "text/plain": [
       "<Figure size 1440x504 with 2 Axes>"
      ]
     },
     "metadata": {
      "needs_background": "light"
     },
     "output_type": "display_data"
    }
   ],
   "source": [
    "data[\"length\"] = data[\"messages\"].apply(len)\n",
    "data.sort_values(by='length', ascending=False)\n",
    "data.hist(column='length', by='label', bins=100, figsize=(20,7))"
   ]
  },
  {
   "cell_type": "markdown",
   "id": "respected-andrews",
   "metadata": {},
   "source": [
    "##### The above histogram tells us that spam messages generally has more length. "
   ]
  },
  {
   "cell_type": "code",
   "execution_count": 4,
   "id": "downtown-interaction",
   "metadata": {},
   "outputs": [],
   "source": [
    "import string\n",
    "from nltk.corpus import stopwords\n",
    "\n",
    "#for message in data[\"messages\"]:\n",
    "def clean_message(message):\n",
    "    sentence = []\n",
    "    for c in message:\n",
    "        if c not in string.punctuation:\n",
    "            sentence.append(c)\n",
    "    sentence = ''.join(sentence)\n",
    "    # all the punctuation marks from the messages are removed here\n",
    "    #now we want to remove the stopwords which will increase the redundancy in the dataframe and\n",
    "    #will not affect the classifier.\n",
    "    sentence=sentence.lower()\n",
    "    word_list = list(sentence.split(\" \"))\n",
    "    for word in word_list:\n",
    "        if word in stopwords.words('english'):\n",
    "            word_list.remove(word)\n",
    "    sentence=\" \".join(word_list)\n",
    "    return sentence\n",
    "    #data.loc[data['messages'] == message, 'messages'] = sentence\n",
    "\n",
    "#data.head(10)"
   ]
  },
  {
   "cell_type": "code",
   "execution_count": 5,
   "id": "controlled-banana",
   "metadata": {},
   "outputs": [
    {
     "data": {
      "text/plain": [
       "0    go jurong point crazy available in bugis n gre...\n",
       "1                              ok lar joking wif u oni\n",
       "2    free entry 2 wkly comp win fa cup final tkts 2...\n",
       "3                  u dun say early hor u c already say\n",
       "4          nah dont think goes usf lives around though\n",
       "Name: messages, dtype: object"
      ]
     },
     "execution_count": 5,
     "metadata": {},
     "output_type": "execute_result"
    }
   ],
   "source": [
    "data['messages'].head(5).apply(clean_message)"
   ]
  },
  {
   "cell_type": "code",
   "execution_count": 8,
   "id": "ancient-individual",
   "metadata": {},
   "outputs": [],
   "source": [
    "def text_to_vector(text):\n",
    "    word_vector = np.zeros(vocab_size)\n",
    "    for word in text.split(\" \"):\n",
    "        if word2idx.get(word) is None:\n",
    "            continue\n",
    "        else:\n",
    "            word_vector[word2idx.get(word)] += 1\n",
    "    return np.array(word_vector)\n",
    "      # Convert all titles to vectors\n",
    "    word_vectors = np.zeros((len(text), len(vocab)), dtype=np.int_)\n",
    "    for i, (_, text_) in enumerate(text.iterrows()):\n",
    "        word_vectors[i] = text_to_vector(text_[0])\n"
   ]
  },
  {
   "cell_type": "code",
   "execution_count": 10,
   "id": "alternate-edmonton",
   "metadata": {},
   "outputs": [],
   "source": [
    "#Converting words to vector using TF-IDF Vectorizer\n",
    "from sklearn.feature_extraction.text import TfidfVectorizer\n",
    "vectorizer = TfidfVectorizer()\n",
    "vectors = vectorizer.fit_transform(data['messages'])\n",
    "vectors.shape\n",
    " \n",
    "#features = word_vectors\n",
    "features = vectors\n",
    "\n"
   ]
  },
  {
   "cell_type": "code",
   "execution_count": 13,
   "id": "super-missile",
   "metadata": {},
   "outputs": [],
   "source": [
    "# Classification Model\n",
    "from sklearn.model_selection import train_test_split\n",
    "from sklearn.svm import SVC\n",
    "# Train-Test Split\n",
    "X_train, X_test, y_train, y_test = train_test_split(features, data['label'], test_size=0.15, random_state=111)\n",
    "\n",
    "#Training multiple machine learning algorithms\n",
    "from sklearn.svm import SVC\n",
    "from sklearn.metrics import accuracy_score\n",
    "svc = SVC(kernel='sigmoid', gamma=1.0)\n",
    "\n",
    "clfs = {'SVC' : svc}\n",
    "def train(clf, features, targets):    \n",
    "    clf.fit(features, targets)\n",
    "def predict(clf, features):\n",
    "    return (clf.predict(features))\n",
    "pred_scores_word_vectors = []\n",
    "for k,v in clfs.items():\n",
    "    train(v, X_train, y_train)\n",
    "    pred = predict(v, X_test)\n",
    "    pred_scores_word_vectors.append((k, [accuracy_score(y_test , pred)]))"
   ]
  },
  {
   "cell_type": "code",
   "execution_count": 14,
   "id": "settled-cooler",
   "metadata": {},
   "outputs": [
    {
     "data": {
      "text/plain": [
       "[('SVC', [0.984468339307049])]"
      ]
     },
     "execution_count": 14,
     "metadata": {},
     "output_type": "execute_result"
    }
   ],
   "source": [
    "pred_scores_word_vectors"
   ]
  },
  {
   "cell_type": "markdown",
   "id": "selective-sandwich",
   "metadata": {},
   "source": [
    "#### The above code shows the accuracy of the SVM model.\n",
    "#### The accuracy is a good way to know is the model is efficient but this is not enough to say that our model is good, for this reason we have used Classification Report and Confusion Matrix."
   ]
  },
  {
   "cell_type": "code",
   "execution_count": 19,
   "id": "grateful-developer",
   "metadata": {},
   "outputs": [
    {
     "name": "stdout",
     "output_type": "stream",
     "text": [
      "Classification report\n",
      "              precision    recall  f1-score   support\n",
      "\n",
      "         ham       0.98      1.00      0.99       732\n",
      "        spam       1.00      0.88      0.93       105\n",
      "\n",
      "    accuracy                           0.98       837\n",
      "   macro avg       0.99      0.94      0.96       837\n",
      "weighted avg       0.98      0.98      0.98       837\n",
      "\n"
     ]
    }
   ],
   "source": [
    "from sklearn.metrics import classification_report\n",
    "print(\"Classification report\")\n",
    "print (classification_report(y_test, pred))"
   ]
  },
  {
   "cell_type": "code",
   "execution_count": 21,
   "id": "approved-relevance",
   "metadata": {},
   "outputs": [
    {
     "name": "stdout",
     "output_type": "stream",
     "text": [
      "[[732   0]\n",
      " [ 13  92]]\n"
     ]
    }
   ],
   "source": [
    "from sklearn.metrics import confusion_matrix\n",
    "print(confusion_matrix(y_test,pred))"
   ]
  },
  {
   "cell_type": "markdown",
   "id": "intimate-battlefield",
   "metadata": {},
   "source": [
    "#### You can see from above confusion matrix and classification report that results obtained are quite good."
   ]
  },
  {
   "cell_type": "markdown",
   "id": "smaller-shopper",
   "metadata": {},
   "source": [
    "### checking for a custom message input"
   ]
  },
  {
   "cell_type": "code",
   "execution_count": 17,
   "id": "center-flash",
   "metadata": {},
   "outputs": [
    {
     "name": "stdout",
     "output_type": "stream",
     "text": [
      "Message is NOT Spam\n"
     ]
    }
   ],
   "source": [
    "\n",
    "def find(x):\n",
    "    if x == 1:\n",
    "        print (\"Message is SPAM\")\n",
    "    else:\n",
    "        print (\"Message is NOT Spam\")\n",
    "text = [\"Free tones Hope you enjoyed your new content\"]\n",
    "integers = vectorizer.transform(text)\n",
    "x = mnb.predict(integers)[0]\n",
    "find(x) "
   ]
  },
  {
   "cell_type": "code",
   "execution_count": null,
   "id": "further-tract",
   "metadata": {},
   "outputs": [],
   "source": []
  }
 ],
 "metadata": {
  "kernelspec": {
   "display_name": "Python 3",
   "language": "python",
   "name": "python3"
  },
  "language_info": {
   "codemirror_mode": {
    "name": "ipython",
    "version": 3
   },
   "file_extension": ".py",
   "mimetype": "text/x-python",
   "name": "python",
   "nbconvert_exporter": "python",
   "pygments_lexer": "ipython3",
   "version": "3.8.3"
  }
 },
 "nbformat": 4,
 "nbformat_minor": 5
}
